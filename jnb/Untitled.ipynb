{
 "cells": [
  {
   "cell_type": "code",
   "execution_count": 2,
   "id": "0fe7e360",
   "metadata": {
    "scrolled": false
   },
   "outputs": [],
   "source": [
    "from matplotlib import pyplot as plt\n",
    "import pandas as pd\n",
    "import numpy as np \n",
    "import sklearn"
   ]
  },
  {
   "cell_type": "markdown",
   "id": "9b6e6bc9",
   "metadata": {},
   "source": [
    "### Load the data"
   ]
  },
  {
   "cell_type": "code",
   "execution_count": 31,
   "id": "0dcf87f1",
   "metadata": {},
   "outputs": [
    {
     "data": {
      "text/html": [
       "<div>\n",
       "<style scoped>\n",
       "    .dataframe tbody tr th:only-of-type {\n",
       "        vertical-align: middle;\n",
       "    }\n",
       "\n",
       "    .dataframe tbody tr th {\n",
       "        vertical-align: top;\n",
       "    }\n",
       "\n",
       "    .dataframe thead th {\n",
       "        text-align: right;\n",
       "    }\n",
       "</style>\n",
       "<table border=\"1\" class=\"dataframe\">\n",
       "  <thead>\n",
       "    <tr style=\"text-align: right;\">\n",
       "      <th></th>\n",
       "      <th>CustomerID</th>\n",
       "      <th>DateOfPurchase</th>\n",
       "      <th>ProductCategory</th>\n",
       "      <th>TransactionAmount</th>\n",
       "      <th>Next30DaysPurchase</th>\n",
       "    </tr>\n",
       "  </thead>\n",
       "  <tbody>\n",
       "    <tr>\n",
       "      <th>0</th>\n",
       "      <td>708239</td>\n",
       "      <td>11/30/2021</td>\n",
       "      <td>Groceries</td>\n",
       "      <td>414.04</td>\n",
       "      <td>0</td>\n",
       "    </tr>\n",
       "    <tr>\n",
       "      <th>1</th>\n",
       "      <td>488909</td>\n",
       "      <td>07/25/2021</td>\n",
       "      <td>Electronics</td>\n",
       "      <td>287.61</td>\n",
       "      <td>1</td>\n",
       "    </tr>\n",
       "    <tr>\n",
       "      <th>2</th>\n",
       "      <td>417618</td>\n",
       "      <td>11/05/2021</td>\n",
       "      <td>Books</td>\n",
       "      <td>133.82</td>\n",
       "      <td>1</td>\n",
       "    </tr>\n",
       "    <tr>\n",
       "      <th>3</th>\n",
       "      <td>181531</td>\n",
       "      <td>12/26/2021</td>\n",
       "      <td>Books</td>\n",
       "      <td>118.05</td>\n",
       "      <td>0</td>\n",
       "    </tr>\n",
       "    <tr>\n",
       "      <th>4</th>\n",
       "      <td>726861</td>\n",
       "      <td>09/08/2021</td>\n",
       "      <td>Groceries</td>\n",
       "      <td>494.47</td>\n",
       "      <td>1</td>\n",
       "    </tr>\n",
       "    <tr>\n",
       "      <th>...</th>\n",
       "      <td>...</td>\n",
       "      <td>...</td>\n",
       "      <td>...</td>\n",
       "      <td>...</td>\n",
       "      <td>...</td>\n",
       "    </tr>\n",
       "    <tr>\n",
       "      <th>995</th>\n",
       "      <td>699848</td>\n",
       "      <td>09/08/2022</td>\n",
       "      <td>Home Decor</td>\n",
       "      <td>152.58</td>\n",
       "      <td>1</td>\n",
       "    </tr>\n",
       "    <tr>\n",
       "      <th>996</th>\n",
       "      <td>832318</td>\n",
       "      <td>11/04/2021</td>\n",
       "      <td>Books</td>\n",
       "      <td>481.99</td>\n",
       "      <td>1</td>\n",
       "    </tr>\n",
       "    <tr>\n",
       "      <th>997</th>\n",
       "      <td>498311</td>\n",
       "      <td>02/13/2022</td>\n",
       "      <td>Books</td>\n",
       "      <td>58.70</td>\n",
       "      <td>0</td>\n",
       "    </tr>\n",
       "    <tr>\n",
       "      <th>998</th>\n",
       "      <td>781309</td>\n",
       "      <td>11/20/2021</td>\n",
       "      <td>Books</td>\n",
       "      <td>141.05</td>\n",
       "      <td>1</td>\n",
       "    </tr>\n",
       "    <tr>\n",
       "      <th>999</th>\n",
       "      <td>629869</td>\n",
       "      <td>11/07/2020</td>\n",
       "      <td>Groceries</td>\n",
       "      <td>99.25</td>\n",
       "      <td>1</td>\n",
       "    </tr>\n",
       "  </tbody>\n",
       "</table>\n",
       "<p>1000 rows × 5 columns</p>\n",
       "</div>"
      ],
      "text/plain": [
       "     CustomerID DateOfPurchase ProductCategory  TransactionAmount  \\\n",
       "0        708239     11/30/2021       Groceries             414.04   \n",
       "1        488909     07/25/2021     Electronics             287.61   \n",
       "2        417618     11/05/2021           Books             133.82   \n",
       "3        181531     12/26/2021           Books             118.05   \n",
       "4        726861     09/08/2021       Groceries             494.47   \n",
       "..          ...            ...             ...                ...   \n",
       "995      699848     09/08/2022      Home Decor             152.58   \n",
       "996      832318     11/04/2021           Books             481.99   \n",
       "997      498311     02/13/2022           Books              58.70   \n",
       "998      781309     11/20/2021           Books             141.05   \n",
       "999      629869     11/07/2020       Groceries              99.25   \n",
       "\n",
       "     Next30DaysPurchase  \n",
       "0                     0  \n",
       "1                     1  \n",
       "2                     1  \n",
       "3                     0  \n",
       "4                     1  \n",
       "..                  ...  \n",
       "995                   1  \n",
       "996                   1  \n",
       "997                   0  \n",
       "998                   1  \n",
       "999                   1  \n",
       "\n",
       "[1000 rows x 5 columns]"
      ]
     },
     "execution_count": 31,
     "metadata": {},
     "output_type": "execute_result"
    }
   ],
   "source": [
    "df = pd.read_csv(\"../dbs/raw/db.csv\")\n",
    "df"
   ]
  },
  {
   "cell_type": "markdown",
   "id": "1618edf5",
   "metadata": {},
   "source": [
    "### understand each column better"
   ]
  },
  {
   "cell_type": "code",
   "execution_count": 32,
   "id": "d0d98820",
   "metadata": {},
   "outputs": [
    {
     "data": {
      "text/plain": [
       "Index(['CustomerID', 'DateOfPurchase', 'ProductCategory', 'TransactionAmount',\n",
       "       'Next30DaysPurchase'],\n",
       "      dtype='object')"
      ]
     },
     "execution_count": 32,
     "metadata": {},
     "output_type": "execute_result"
    }
   ],
   "source": [
    "df.columns"
   ]
  },
  {
   "cell_type": "markdown",
   "id": "c1b4f9fe",
   "metadata": {},
   "source": [
    "#### customer id"
   ]
  },
  {
   "cell_type": "code",
   "execution_count": 33,
   "id": "4076c63f",
   "metadata": {},
   "outputs": [
    {
     "name": "stdout",
     "output_type": "stream",
     "text": [
      "Number of unique id is 1000\n",
      "each id is repeated [1]\n"
     ]
    }
   ],
   "source": [
    "print(f\"Number of unique id is {df.CustomerID.nunique()}\")\n",
    "print(f\"each id is repeated {df.CustomerID.value_counts().unique()}\") # this means its useless"
   ]
  },
  {
   "cell_type": "markdown",
   "id": "03ad9f1f",
   "metadata": {},
   "source": [
    "#### date"
   ]
  },
  {
   "cell_type": "code",
   "execution_count": 34,
   "id": "f8fbb92b",
   "metadata": {},
   "outputs": [
    {
     "name": "stdout",
     "output_type": "stream",
     "text": [
      "2020-01-02 00:00:00 to 2023-08-05 00:00:00\n",
      "1311 days\n",
      "each day can have [5 4 3 2 1] number of transactions\n"
     ]
    },
    {
     "data": {
      "image/png": "[encoded data removed]",
      "text/plain": [
       "<Figure size 432x288 with 1 Axes>"
      ]
     },
     "metadata": {
      "needs_background": "light"
     },
     "output_type": "display_data"
    }
   ],
   "source": [
    "d_min = pd.to_datetime(df.DateOfPurchase).min()\n",
    "d_max = pd.to_datetime(df.DateOfPurchase).max()\n",
    "print(f\"{d_min} to {d_max}\")\n",
    "print((d_max - d_min).days, \"days\")\n",
    "dist = df.DateOfPurchase.value_counts()\n",
    "print(f\"each day can have {dist.unique()} number of transactions\")\n",
    "plt.bar(dist.index, dist.values)\n",
    "plt.xticks(np.arange(0, dist.shape[0], step=200))\n",
    "plt.show() # there is a suspisious trend"
   ]
  },
  {
   "cell_type": "markdown",
   "id": "7ede51a7",
   "metadata": {},
   "source": [
    "#### product category"
   ]
  },
  {
   "cell_type": "code",
   "execution_count": 35,
   "id": "ddd6182e",
   "metadata": {},
   "outputs": [
    {
     "name": "stdout",
     "output_type": "stream",
     "text": [
      "['Groceries' 'Electronics' 'Books' 'Clothing' 'Home Decor'] 5\n"
     ]
    },
    {
     "data": {
      "image/png": "[encoded data removed]",
      "text/plain": [
       "<Figure size 432x288 with 1 Axes>"
      ]
     },
     "metadata": {},
     "output_type": "display_data"
    }
   ],
   "source": [
    "print(df.ProductCategory.unique(), df.ProductCategory.nunique())\n",
    "\n",
    "tmp = df.ProductCategory.value_counts() / df.shape[0]\n",
    "plt.pie(tmp.values, labels=tmp.index)\n",
    "plt.show() # equal divisions is intressting further anaylsis"
   ]
  },
  {
   "cell_type": "markdown",
   "id": "1f769b54",
   "metadata": {},
   "source": [
    "#### TransactionAmount"
   ]
  },
  {
   "cell_type": "code",
   "execution_count": 36,
   "id": "701868c1",
   "metadata": {},
   "outputs": [
    {
     "name": "stdout",
     "output_type": "stream",
     "text": [
      "count    1000.000000\n",
      "mean      249.440960\n",
      "std       136.060825\n",
      "min        10.100000\n",
      "25%       131.710000\n",
      "50%       248.400000\n",
      "75%       358.690000\n",
      "max       499.250000\n",
      "Name: TransactionAmount, dtype: float64\n"
     ]
    },
    {
     "data": {
      "image/png": "[encoded data removed]",
      "text/plain": [
       "<Figure size 432x288 with 1 Axes>"
      ]
     },
     "metadata": {
      "needs_background": "light"
     },
     "output_type": "display_data"
    }
   ],
   "source": [
    "mny = df.TransactionAmount.astype(float)\n",
    "print(mny.describe())\n",
    "mu, sigma = mny.mean(), mny.std()\n",
    "bin_edges = [mu - 2 * sigma, mu - sigma, mu, mu + sigma, mu + 2 * sigma]\n",
    "bins = pd.cut(mny, bin_edges)\n",
    "bin_freq = bins.value_counts().sort_index()\n",
    "plt.bar(\n",
    "    [\"2 std down\", \"1 std down\", \"1 std up\", \"2 std up\"],  #make shift candle stick\n",
    "    bin_freq.values\n",
    ")\n",
    "plt.show()"
   ]
  },
  {
   "cell_type": "markdown",
   "id": "0e08e0a7",
   "metadata": {},
   "source": [
    "### Crrelation matrix!"
   ]
  },
  {
   "cell_type": "code",
   "execution_count": 37,
   "id": "1618626b",
   "metadata": {},
   "outputs": [
    {
     "name": "stderr",
     "output_type": "stream",
     "text": [
      "/var/folders/m2/z849pwcs4p1_h34100yv3bdc0000gn/T/ipykernel_1822/729693167.py:8: FutureWarning: Series.dt.weekofyear and Series.dt.week have been deprecated. Please use Series.dt.isocalendar().week instead.\n",
      "  df.dt = pd.to_datetime(df.dt).dt.weekofyear\n"
     ]
    }
   ],
   "source": [
    "df.rename(columns={\n",
    "                \"Next30DaysPurchase\": \"y\",\n",
    "                \"DateOfPurchase\": \"dt\",\n",
    "                \"ProductCategory\": \"ct\",\n",
    "                \"TransactionAmount\": \"nm\",\n",
    "}, inplace=True)\n",
    "df.y = df.y.astype(int)\n",
    "df.dt = pd.to_datetime(df.dt).dt.weekofyear\n",
    "dict_map = {v: i for i, v in enumerate(df.ct.unique())}\n",
    "df.ct = df.ct.map(dict_map)\n",
    "df.nm = df.nm.astype(float)"
   ]
  },
  {
   "cell_type": "code",
   "execution_count": 39,
   "id": "95e6654e",
   "metadata": {},
   "outputs": [
    {
     "data": {
      "text/html": [
       "<div>\n",
       "<style scoped>\n",
       "    .dataframe tbody tr th:only-of-type {\n",
       "        vertical-align: middle;\n",
       "    }\n",
       "\n",
       "    .dataframe tbody tr th {\n",
       "        vertical-align: top;\n",
       "    }\n",
       "\n",
       "    .dataframe thead th {\n",
       "        text-align: right;\n",
       "    }\n",
       "</style>\n",
       "<table border=\"1\" class=\"dataframe\">\n",
       "  <thead>\n",
       "    <tr style=\"text-align: right;\">\n",
       "      <th></th>\n",
       "      <th>CustomerID</th>\n",
       "      <th>dt</th>\n",
       "      <th>ct</th>\n",
       "      <th>nm</th>\n",
       "      <th>y</th>\n",
       "    </tr>\n",
       "  </thead>\n",
       "  <tbody>\n",
       "    <tr>\n",
       "      <th>CustomerID</th>\n",
       "      <td>1.000000</td>\n",
       "      <td>-0.023513</td>\n",
       "      <td>-0.009248</td>\n",
       "      <td>0.043622</td>\n",
       "      <td>-0.001586</td>\n",
       "    </tr>\n",
       "    <tr>\n",
       "      <th>dt</th>\n",
       "      <td>-0.023513</td>\n",
       "      <td>1.000000</td>\n",
       "      <td>-0.010654</td>\n",
       "      <td>0.013798</td>\n",
       "      <td>-0.002951</td>\n",
       "    </tr>\n",
       "    <tr>\n",
       "      <th>ct</th>\n",
       "      <td>-0.009248</td>\n",
       "      <td>-0.010654</td>\n",
       "      <td>1.000000</td>\n",
       "      <td>-0.020099</td>\n",
       "      <td>-0.003178</td>\n",
       "    </tr>\n",
       "    <tr>\n",
       "      <th>nm</th>\n",
       "      <td>0.043622</td>\n",
       "      <td>0.013798</td>\n",
       "      <td>-0.020099</td>\n",
       "      <td>1.000000</td>\n",
       "      <td>-0.074588</td>\n",
       "    </tr>\n",
       "    <tr>\n",
       "      <th>y</th>\n",
       "      <td>-0.001586</td>\n",
       "      <td>-0.002951</td>\n",
       "      <td>-0.003178</td>\n",
       "      <td>-0.074588</td>\n",
       "      <td>1.000000</td>\n",
       "    </tr>\n",
       "  </tbody>\n",
       "</table>\n",
       "</div>"
      ],
      "text/plain": [
       "            CustomerID        dt        ct        nm         y\n",
       "CustomerID    1.000000 -0.023513 -0.009248  0.043622 -0.001586\n",
       "dt           -0.023513  1.000000 -0.010654  0.013798 -0.002951\n",
       "ct           -0.009248 -0.010654  1.000000 -0.020099 -0.003178\n",
       "nm            0.043622  0.013798 -0.020099  1.000000 -0.074588\n",
       "y            -0.001586 -0.002951 -0.003178 -0.074588  1.000000"
      ]
     },
     "execution_count": 39,
     "metadata": {},
     "output_type": "execute_result"
    }
   ],
   "source": [
    "df.corr() # there appears to be no correlation between any variables. a great deal of feature engineering is requited"
   ]
  }
 ],
 "metadata": {
  "kernelspec": {
   "display_name": "proj_III",
   "language": "python",
   "name": "proj_iii"
  },
  "language_info": {
   "codemirror_mode": {
    "name": "ipython",
    "version": 3
   },
   "file_extension": ".py",
   "mimetype": "text/x-python",
   "name": "python",
   "nbconvert_exporter": "python",
   "pygments_lexer": "ipython3",
   "version": "3.10.10"
  }
 },
 "nbformat": 4,
 "nbformat_minor": 5
}
